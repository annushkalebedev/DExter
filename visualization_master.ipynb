{
 "cells": [
  {
   "cell_type": "code",
   "execution_count": 11,
   "metadata": {},
   "outputs": [],
   "source": [
    "import os, sys, glob\n",
    "import seaborn as sns\n",
    "import matplotlib.pyplot as plt\n",
    "from collections import OrderedDict\n",
    "import numpy as np\n",
    "import pandas as pd\n",
    "\n",
    "SAMPLES_DIR = 'artifacts/samples/EVAL-targetgen_noise-lw11111-len200-beta0.02-steps1000-epsilon-TransferTrue-ssfrac0.75-L12-C512-cfdg_ddpm-w=1.2-p=0.1-k=3-dia=2-4/'"
   ]
  },
  {
   "cell_type": "code",
   "execution_count": 7,
   "metadata": {},
   "outputs": [],
   "source": [
    "all_eval_dir = glob.glob(f\"{SAMPLES_DIR}/**/*.csv\", recursive=True)"
   ]
  },
  {
   "cell_type": "code",
   "execution_count": 13,
   "metadata": {},
   "outputs": [
    {
     "name": "stdout",
     "output_type": "stream",
     "text": [
      "            Unnamed: 0  articulation_feature.kor  \\\n",
      "0   label_dev(percent)                  5.711173   \n",
      "1  source_dev(percent)                 -2.973796   \n",
      "2       pred-label(KL)                  0.411449   \n",
      "3      pred-source(KL)                  0.429895   \n",
      "4     label-source(KL)                  0.086130   \n",
      "5      pred-label(cor)                  0.269536   \n",
      "6     pred-source(cor)                  0.144109   \n",
      "7    label-source(cor)                  0.330365   \n",
      "\n",
      "   asynchrony_feature.pitch_cor  asynchrony_feature.vel_cor  \\\n",
      "0                     -0.674300                    0.818161   \n",
      "1                     -1.615850                   -2.691251   \n",
      "2                      0.180833                    0.120295   \n",
      "3                      0.019825                    0.008998   \n",
      "4                      0.250233                    0.106317   \n",
      "5                      0.239856                    0.288783   \n",
      "6                     -0.158678                   -0.309851   \n",
      "7                      0.010054                   -0.022419   \n",
      "\n",
      "   asynchrony_feature.delta  dynamics_feature.tempo_cor  \\\n",
      "0                  2.485144                   -0.996703   \n",
      "1                  4.058604                   18.378878   \n",
      "2                  0.051752                    0.195780   \n",
      "3                  0.017494                    9.695562   \n",
      "4                  0.021858                    4.087972   \n",
      "5                  0.293500                   -0.656213   \n",
      "6                  0.181703                   -0.581883   \n",
      "7                 -0.126056                    0.647519   \n",
      "\n",
      "   pedal_feature.onset_value  tempo_curve  vel_curve  \n",
      "0                   4.050413     0.189463   0.298399  \n",
      "1                   8.012648    -0.135545   0.161527  \n",
      "2                   0.195815     0.429953   1.947636  \n",
      "3                   0.212314     0.106675   4.716876  \n",
      "4                   0.019747     0.079503   0.734596  \n",
      "5                   0.289691     0.367281   0.632668  \n",
      "6                   0.226088     0.050389   0.154605  \n",
      "7                   0.254846     0.061747   0.116760  \n"
     ]
    },
    {
     "ename": "SystemExit",
     "evalue": "",
     "output_type": "error",
     "traceback": [
      "An exception has occurred, use %tb to see the full traceback.\n",
      "\u001b[0;31mSystemExit\u001b[0m\n"
     ]
    },
    {
     "name": "stderr",
     "output_type": "stream",
     "text": [
      "/homes/hz009/anaconda3/lib/python3.9/site-packages/IPython/core/interactiveshell.py:3405: UserWarning: To exit: use 'exit', 'quit', or Ctrl-D.\n",
      "  warn(\"To exit: use 'exit', 'quit', or Ctrl-D.\", stacklevel=1)\n"
     ]
    }
   ],
   "source": [
    "\n",
    "for eval_csv_path in all_eval_dir:\n",
    "    print(pd.read_csv(eval_csv_path))\n"
   ]
  },
  {
   "cell_type": "code",
   "execution_count": null,
   "metadata": {},
   "outputs": [],
   "source": []
  }
 ],
 "metadata": {
  "kernelspec": {
   "display_name": "base",
   "language": "python",
   "name": "python3"
  },
  "language_info": {
   "codemirror_mode": {
    "name": "ipython",
    "version": 3
   },
   "file_extension": ".py",
   "mimetype": "text/x-python",
   "name": "python",
   "nbconvert_exporter": "python",
   "pygments_lexer": "ipython3",
   "version": "3.9.7"
  }
 },
 "nbformat": 4,
 "nbformat_minor": 4
}
